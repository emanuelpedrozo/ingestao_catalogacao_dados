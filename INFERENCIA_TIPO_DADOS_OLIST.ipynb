{
  "nbformat": 4,
  "nbformat_minor": 0,
  "metadata": {
    "colab": {
      "provenance": [],
      "authorship_tag": "ABX9TyMZQZoQ+rsfYxmO+apI2PDa",
      "include_colab_link": true
    },
    "kernelspec": {
      "name": "python3",
      "display_name": "Python 3"
    },
    "language_info": {
      "name": "python"
    }
  },
  "cells": [
    {
      "cell_type": "markdown",
      "metadata": {
        "id": "view-in-github",
        "colab_type": "text"
      },
      "source": [
        "<a href=\"https://colab.research.google.com/github/emanuelpedrozo/ingestao_catalogacao_dados/blob/main/INFERENCIA_TIPO_DADOS_OLIST.ipynb\" target=\"_parent\"><img src=\"https://colab.research.google.com/assets/colab-badge.svg\" alt=\"Open In Colab\"/></a>"
      ]
    },
    {
      "cell_type": "markdown",
      "source": [
        "# CABEÇALHO\n",
        "* Nome do aluno: Emanuel Godinho Pedrozo\n",
        "* Matrícula: 1415956 \n",
        "* Professor: Victor Sales Silva\n",
        "* Disciplina: PREPARAÇÃO E INGESTÃO DE DADOS\n",
        "* Atividade: Exercício 3 - Coleta, tratamento e normalização de dados / Parte 1"
      ],
      "metadata": {
        "id": "uehwWqC_I2e-"
      }
    },
    {
      "cell_type": "markdown",
      "source": [
        "LEITURA DOS DOS DADOS OLIST DO AZURE"
      ],
      "metadata": {
        "id": "gevgsUxbgkLE"
      }
    },
    {
      "cell_type": "code",
      "source": [
        "import pandas as pd"
      ],
      "metadata": {
        "id": "RmtFtAf8gpj1"
      },
      "execution_count": null,
      "outputs": []
    },
    {
      "cell_type": "markdown",
      "source": [
        "VARIÁVEIS COM A URL DOS DADOS"
      ],
      "metadata": {
        "id": "tVlroDWjkr1-"
      }
    },
    {
      "cell_type": "code",
      "source": [
        "url_olist_dataset = \"https://storageaccount1415956.blob.core.windows.net/datalake-aulas/raw/olist/olist_order_reviews_dataset/olist_order_reviews_dataset.csv\"\n",
        "url_olist_customers_dataset = \"https://storageaccount1415956.blob.core.windows.net/datalake-aulas/raw/olist/olist_customers_dataset/olist_customers_dataset.csv\"\n",
        "url_olist_orders_reviews_dataset = \"https://storageaccount1415956.blob.core.windows.net/datalake-aulas/raw/olist/olist_orders_dataset/olist_orders_dataset.csv\""
      ],
      "metadata": {
        "id": "j5G8yntfkvN-"
      },
      "execution_count": null,
      "outputs": []
    },
    {
      "cell_type": "markdown",
      "source": [
        "LEITURA DOS DADOS"
      ],
      "metadata": {
        "id": "Cc6ZVKyop73B"
      }
    },
    {
      "cell_type": "code",
      "source": [
        "df_url_olist_dataset = pd.read_csv(url_olist_dataset)\n",
        "df_url_olist_customers_dataset = pd.read_csv(url_olist_customers_dataset)\n",
        "df_url_olist_orders_reviews_dataset = pd.read_csv(url_olist_orders_reviews_dataset)"
      ],
      "metadata": {
        "id": "jNbwKNjIlw3S"
      },
      "execution_count": null,
      "outputs": []
    },
    {
      "cell_type": "markdown",
      "source": [
        "VISUALIZACAO DOS DADOS"
      ],
      "metadata": {
        "id": "A_W1NBCyqW8H"
      }
    },
    {
      "cell_type": "code",
      "source": [
        "#df_url_olist_customers_dataset.head()\n",
        "df_url_olist_dataset.head()\n",
        "#df_url_olist_orders_reviews_dataset.head()"
      ],
      "metadata": {
        "colab": {
          "base_uri": "https://localhost:8080/",
          "height": 206
        },
        "id": "xa2HRz4tmP9u",
        "outputId": "f6b6fc8b-9a39-4e6a-a13e-ecb5cee89d25"
      },
      "execution_count": null,
      "outputs": [
        {
          "output_type": "execute_result",
          "data": {
            "text/plain": [
              "                          review_id                          order_id  \\\n",
              "0  7bc2406110b926393aa56f80a40eba40  73fc7af87114b39712e6da79b0a377eb   \n",
              "1  80e641a11e56f04c1ad469d5645fdfde  a548910a1c6147796b98fdf73dbeba33   \n",
              "2  228ce5500dc1d8e020d8d1322874b6f0  f9e4b658b201a9f2ecdecbb34bed034b   \n",
              "3  e64fb393e7b32834bb789ff8bb30750e  658677c97b385a9be170737859d3511b   \n",
              "4  f7c4243c7fe1938f181bec41a392bdeb  8e6bfb81e283fa7e4f11123a3fb894f1   \n",
              "\n",
              "   review_score review_comment_title  \\\n",
              "0             4                  NaN   \n",
              "1             5                  NaN   \n",
              "2             5                  NaN   \n",
              "3             5                  NaN   \n",
              "4             5                  NaN   \n",
              "\n",
              "                              review_comment_message review_creation_date  \\\n",
              "0                                                NaN  2018-01-18 00:00:00   \n",
              "1                                                NaN  2018-03-10 00:00:00   \n",
              "2                                                NaN  2018-02-17 00:00:00   \n",
              "3              Recebi bem antes do prazo estipulado.  2017-04-21 00:00:00   \n",
              "4  Parabéns lojas lannister adorei comprar pela I...  2018-03-01 00:00:00   \n",
              "\n",
              "  review_answer_timestamp  \n",
              "0     2018-01-18 21:46:59  \n",
              "1     2018-03-11 03:05:13  \n",
              "2     2018-02-18 14:36:24  \n",
              "3     2017-04-21 22:02:06  \n",
              "4     2018-03-02 10:26:53  "
            ],
            "text/html": [
              "\n",
              "  <div id=\"df-ff5ddb90-b765-44f4-b04b-b5fd1c829c53\">\n",
              "    <div class=\"colab-df-container\">\n",
              "      <div>\n",
              "<style scoped>\n",
              "    .dataframe tbody tr th:only-of-type {\n",
              "        vertical-align: middle;\n",
              "    }\n",
              "\n",
              "    .dataframe tbody tr th {\n",
              "        vertical-align: top;\n",
              "    }\n",
              "\n",
              "    .dataframe thead th {\n",
              "        text-align: right;\n",
              "    }\n",
              "</style>\n",
              "<table border=\"1\" class=\"dataframe\">\n",
              "  <thead>\n",
              "    <tr style=\"text-align: right;\">\n",
              "      <th></th>\n",
              "      <th>review_id</th>\n",
              "      <th>order_id</th>\n",
              "      <th>review_score</th>\n",
              "      <th>review_comment_title</th>\n",
              "      <th>review_comment_message</th>\n",
              "      <th>review_creation_date</th>\n",
              "      <th>review_answer_timestamp</th>\n",
              "    </tr>\n",
              "  </thead>\n",
              "  <tbody>\n",
              "    <tr>\n",
              "      <th>0</th>\n",
              "      <td>7bc2406110b926393aa56f80a40eba40</td>\n",
              "      <td>73fc7af87114b39712e6da79b0a377eb</td>\n",
              "      <td>4</td>\n",
              "      <td>NaN</td>\n",
              "      <td>NaN</td>\n",
              "      <td>2018-01-18 00:00:00</td>\n",
              "      <td>2018-01-18 21:46:59</td>\n",
              "    </tr>\n",
              "    <tr>\n",
              "      <th>1</th>\n",
              "      <td>80e641a11e56f04c1ad469d5645fdfde</td>\n",
              "      <td>a548910a1c6147796b98fdf73dbeba33</td>\n",
              "      <td>5</td>\n",
              "      <td>NaN</td>\n",
              "      <td>NaN</td>\n",
              "      <td>2018-03-10 00:00:00</td>\n",
              "      <td>2018-03-11 03:05:13</td>\n",
              "    </tr>\n",
              "    <tr>\n",
              "      <th>2</th>\n",
              "      <td>228ce5500dc1d8e020d8d1322874b6f0</td>\n",
              "      <td>f9e4b658b201a9f2ecdecbb34bed034b</td>\n",
              "      <td>5</td>\n",
              "      <td>NaN</td>\n",
              "      <td>NaN</td>\n",
              "      <td>2018-02-17 00:00:00</td>\n",
              "      <td>2018-02-18 14:36:24</td>\n",
              "    </tr>\n",
              "    <tr>\n",
              "      <th>3</th>\n",
              "      <td>e64fb393e7b32834bb789ff8bb30750e</td>\n",
              "      <td>658677c97b385a9be170737859d3511b</td>\n",
              "      <td>5</td>\n",
              "      <td>NaN</td>\n",
              "      <td>Recebi bem antes do prazo estipulado.</td>\n",
              "      <td>2017-04-21 00:00:00</td>\n",
              "      <td>2017-04-21 22:02:06</td>\n",
              "    </tr>\n",
              "    <tr>\n",
              "      <th>4</th>\n",
              "      <td>f7c4243c7fe1938f181bec41a392bdeb</td>\n",
              "      <td>8e6bfb81e283fa7e4f11123a3fb894f1</td>\n",
              "      <td>5</td>\n",
              "      <td>NaN</td>\n",
              "      <td>Parabéns lojas lannister adorei comprar pela I...</td>\n",
              "      <td>2018-03-01 00:00:00</td>\n",
              "      <td>2018-03-02 10:26:53</td>\n",
              "    </tr>\n",
              "  </tbody>\n",
              "</table>\n",
              "</div>\n",
              "      <button class=\"colab-df-convert\" onclick=\"convertToInteractive('df-ff5ddb90-b765-44f4-b04b-b5fd1c829c53')\"\n",
              "              title=\"Convert this dataframe to an interactive table.\"\n",
              "              style=\"display:none;\">\n",
              "        \n",
              "  <svg xmlns=\"http://www.w3.org/2000/svg\" height=\"24px\"viewBox=\"0 0 24 24\"\n",
              "       width=\"24px\">\n",
              "    <path d=\"M0 0h24v24H0V0z\" fill=\"none\"/>\n",
              "    <path d=\"M18.56 5.44l.94 2.06.94-2.06 2.06-.94-2.06-.94-.94-2.06-.94 2.06-2.06.94zm-11 1L8.5 8.5l.94-2.06 2.06-.94-2.06-.94L8.5 2.5l-.94 2.06-2.06.94zm10 10l.94 2.06.94-2.06 2.06-.94-2.06-.94-.94-2.06-.94 2.06-2.06.94z\"/><path d=\"M17.41 7.96l-1.37-1.37c-.4-.4-.92-.59-1.43-.59-.52 0-1.04.2-1.43.59L10.3 9.45l-7.72 7.72c-.78.78-.78 2.05 0 2.83L4 21.41c.39.39.9.59 1.41.59.51 0 1.02-.2 1.41-.59l7.78-7.78 2.81-2.81c.8-.78.8-2.07 0-2.86zM5.41 20L4 18.59l7.72-7.72 1.47 1.35L5.41 20z\"/>\n",
              "  </svg>\n",
              "      </button>\n",
              "      \n",
              "  <style>\n",
              "    .colab-df-container {\n",
              "      display:flex;\n",
              "      flex-wrap:wrap;\n",
              "      gap: 12px;\n",
              "    }\n",
              "\n",
              "    .colab-df-convert {\n",
              "      background-color: #E8F0FE;\n",
              "      border: none;\n",
              "      border-radius: 50%;\n",
              "      cursor: pointer;\n",
              "      display: none;\n",
              "      fill: #1967D2;\n",
              "      height: 32px;\n",
              "      padding: 0 0 0 0;\n",
              "      width: 32px;\n",
              "    }\n",
              "\n",
              "    .colab-df-convert:hover {\n",
              "      background-color: #E2EBFA;\n",
              "      box-shadow: 0px 1px 2px rgba(60, 64, 67, 0.3), 0px 1px 3px 1px rgba(60, 64, 67, 0.15);\n",
              "      fill: #174EA6;\n",
              "    }\n",
              "\n",
              "    [theme=dark] .colab-df-convert {\n",
              "      background-color: #3B4455;\n",
              "      fill: #D2E3FC;\n",
              "    }\n",
              "\n",
              "    [theme=dark] .colab-df-convert:hover {\n",
              "      background-color: #434B5C;\n",
              "      box-shadow: 0px 1px 3px 1px rgba(0, 0, 0, 0.15);\n",
              "      filter: drop-shadow(0px 1px 2px rgba(0, 0, 0, 0.3));\n",
              "      fill: #FFFFFF;\n",
              "    }\n",
              "  </style>\n",
              "\n",
              "      <script>\n",
              "        const buttonEl =\n",
              "          document.querySelector('#df-ff5ddb90-b765-44f4-b04b-b5fd1c829c53 button.colab-df-convert');\n",
              "        buttonEl.style.display =\n",
              "          google.colab.kernel.accessAllowed ? 'block' : 'none';\n",
              "\n",
              "        async function convertToInteractive(key) {\n",
              "          const element = document.querySelector('#df-ff5ddb90-b765-44f4-b04b-b5fd1c829c53');\n",
              "          const dataTable =\n",
              "            await google.colab.kernel.invokeFunction('convertToInteractive',\n",
              "                                                     [key], {});\n",
              "          if (!dataTable) return;\n",
              "\n",
              "          const docLinkHtml = 'Like what you see? Visit the ' +\n",
              "            '<a target=\"_blank\" href=https://colab.research.google.com/notebooks/data_table.ipynb>data table notebook</a>'\n",
              "            + ' to learn more about interactive tables.';\n",
              "          element.innerHTML = '';\n",
              "          dataTable['output_type'] = 'display_data';\n",
              "          await google.colab.output.renderOutput(dataTable, element);\n",
              "          const docLink = document.createElement('div');\n",
              "          docLink.innerHTML = docLinkHtml;\n",
              "          element.appendChild(docLink);\n",
              "        }\n",
              "      </script>\n",
              "    </div>\n",
              "  </div>\n",
              "  "
            ]
          },
          "metadata": {},
          "execution_count": 23
        }
      ]
    },
    {
      "cell_type": "code",
      "source": [
        "df_url_olist_dataset.info()"
      ],
      "metadata": {
        "id": "idqUEsVAm1tl"
      },
      "execution_count": null,
      "outputs": []
    },
    {
      "cell_type": "markdown",
      "source": [
        "AJUSTAR OS SCHEMAS SE NECESSÁRIO"
      ],
      "metadata": {
        "id": "bVh0sl-DnJp7"
      }
    },
    {
      "cell_type": "code",
      "source": [
        "df_url_olist_orders_reviews_dataset['order_id'] = df_url_olist_orders_reviews_dataset['order_id'].astype('string')\n",
        "df_url_olist_orders_reviews_dataset['customer_id'] = df_url_olist_orders_reviews_dataset['customer_id'].astype('string')\n",
        "df_url_olist_orders_reviews_dataset['order_status'] = df_url_olist_orders_reviews_dataset['order_status'].astype('string')\n",
        "df_url_olist_orders_reviews_dataset['order_purchase_timestamp'] = df_url_olist_orders_reviews_dataset['order_purchase_timestamp'].astype('datetime64')\n",
        "df_url_olist_orders_reviews_dataset['order_approved_at'] = df_url_olist_orders_reviews_dataset['order_approved_at'].astype('datetime64')\n",
        "df_url_olist_orders_reviews_dataset['order_delivered_carrier_date'] = df_url_olist_orders_reviews_dataset['order_delivered_carrier_date'].astype('datetime64')\n",
        "df_url_olist_orders_reviews_dataset['order_delivered_customer_date'] = df_url_olist_orders_reviews_dataset['order_delivered_customer_date'].astype('datetime64')\n",
        "df_url_olist_orders_reviews_dataset['order_estimated_delivery_date'] = df_url_olist_orders_reviews_dataset['order_estimated_delivery_date'].astype('datetime64')"
      ],
      "metadata": {
        "id": "PAwoKbL2nRB2"
      },
      "execution_count": null,
      "outputs": []
    },
    {
      "cell_type": "code",
      "source": [
        "df_url_olist_customers_dataset['customer_id'] = df_url_olist_customers_dataset['customer_id'].astype('string')\n",
        "df_url_olist_customers_dataset['customer_unique_id'] = df_url_olist_customers_dataset['customer_unique_id'].astype('string')\n",
        "df_url_olist_customers_dataset['customer_zip_code_prefix'] = df_url_olist_customers_dataset['customer_zip_code_prefix'].astype('string')\n",
        "df_url_olist_customers_dataset['customer_city'] = df_url_olist_customers_dataset['customer_city'].astype('string')\n",
        "df_url_olist_customers_dataset['customer_state'] = df_url_olist_customers_dataset['customer_state'].astype('string')"
      ],
      "metadata": {
        "id": "LBhX8OLBmkPG"
      },
      "execution_count": null,
      "outputs": []
    },
    {
      "cell_type": "code",
      "source": [
        "df_url_olist_dataset['review_id'] = df_url_olist_dataset['review_id'].astype('string')\n",
        "df_url_olist_dataset['order_id'] = df_url_olist_dataset['order_id'].astype('string')\n",
        "df_url_olist_dataset['review_score'] = df_url_olist_dataset['review_score'].astype('int64')\n",
        "df_url_olist_dataset['review_comment_title'] = df_url_olist_dataset['review_comment_title'].astype('string')\n",
        "df_url_olist_dataset['review_comment_message'] = df_url_olist_dataset['review_comment_message'].astype('string')\n",
        "df_url_olist_dataset['review_creation_date'] = df_url_olist_dataset['review_creation_date'].astype('datetime64')\n",
        "df_url_olist_dataset['review_answer_timestamp'] = df_url_olist_dataset['review_answer_timestamp'].astype('datetime64')"
      ],
      "metadata": {
        "id": "luknilPqoBcs"
      },
      "execution_count": null,
      "outputs": []
    },
    {
      "cell_type": "code",
      "source": [
        "df_url_olist_orders_reviews_dataset.info()"
      ],
      "metadata": {
        "colab": {
          "base_uri": "https://localhost:8080/"
        },
        "id": "SQ_D2wXmovtb",
        "outputId": "f0a7b0f2-d21f-4e31-e19b-0effd7b45350"
      },
      "execution_count": null,
      "outputs": [
        {
          "output_type": "stream",
          "name": "stdout",
          "text": [
            "<class 'pandas.core.frame.DataFrame'>\n",
            "RangeIndex: 99441 entries, 0 to 99440\n",
            "Data columns (total 8 columns):\n",
            " #   Column                         Non-Null Count  Dtype         \n",
            "---  ------                         --------------  -----         \n",
            " 0   order_id                       99441 non-null  string        \n",
            " 1   customer_id                    99441 non-null  string        \n",
            " 2   order_status                   99441 non-null  string        \n",
            " 3   order_purchase_timestamp       99441 non-null  datetime64[ns]\n",
            " 4   order_approved_at              99281 non-null  datetime64[ns]\n",
            " 5   order_delivered_carrier_date   97658 non-null  datetime64[ns]\n",
            " 6   order_delivered_customer_date  96476 non-null  datetime64[ns]\n",
            " 7   order_estimated_delivery_date  99441 non-null  datetime64[ns]\n",
            "dtypes: datetime64[ns](5), string(3)\n",
            "memory usage: 6.1 MB\n"
          ]
        }
      ]
    },
    {
      "cell_type": "code",
      "source": [],
      "metadata": {
        "id": "BaS-buMKpPlL"
      },
      "execution_count": null,
      "outputs": []
    }
  ]
}