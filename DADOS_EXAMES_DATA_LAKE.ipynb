{
  "nbformat": 4,
  "nbformat_minor": 0,
  "metadata": {
    "colab": {
      "provenance": [],
      "authorship_tag": "ABX9TyPFhwe4dtOKgh4Y9D0eGEQm",
      "include_colab_link": true
    },
    "kernelspec": {
      "name": "python3",
      "display_name": "Python 3"
    },
    "language_info": {
      "name": "python"
    }
  },
  "cells": [
    {
      "cell_type": "markdown",
      "metadata": {
        "id": "view-in-github",
        "colab_type": "text"
      },
      "source": [
        "<a href=\"https://colab.research.google.com/github/emanuelpedrozo/ingestao_catalogacao_dados/blob/main/DADOS_EXAMES_DATA_LAKE.ipynb\" target=\"_parent\"><img src=\"https://colab.research.google.com/assets/colab-badge.svg\" alt=\"Open In Colab\"/></a>"
      ]
    },
    {
      "cell_type": "markdown",
      "source": [
        "# CABEÇALHO\n",
        "* Nome do aluno: Emanuel Godinho Pedrozo\n",
        "* Matrícula: 1415956 \n",
        "* Professor: Victor Sales Silva\n",
        "* Disciplina: PREPARAÇÃO E INGESTÃO DE DADOS\n",
        "* Atividade: Exercício 3 - Coleta, tratamento e normalização de dados / Parte 2"
      ],
      "metadata": {
        "id": "tQHNk4kFIJKi"
      }
    },
    {
      "cell_type": "markdown",
      "source": [
        "INSTALAÇÃO BIBLIOTECA AZURE STOREGE BLOB"
      ],
      "metadata": {
        "id": "ygaxqn3n7b1H"
      }
    },
    {
      "cell_type": "code",
      "execution_count": null,
      "metadata": {
        "id": "n7ZYjxxM7PLK"
      },
      "outputs": [],
      "source": [
        "pip install azure-storage-blob"
      ]
    },
    {
      "cell_type": "code",
      "source": [
        "import requests\n",
        "import zipfile\n",
        "from azure.storage.blob import BlobClient\n",
        "import os\n",
        "import pandas as pd\n",
        "import numpy as np"
      ],
      "metadata": {
        "id": "nZWoLWHn8InV"
      },
      "execution_count": null,
      "outputs": []
    },
    {
      "cell_type": "markdown",
      "source": [
        "CADEIA DE CONEXÃO"
      ],
      "metadata": {
        "id": "x_e0gN958UpM"
      }
    },
    {
      "cell_type": "code",
      "source": [
        "cadeia_conexao = 'DefaultEndpointsProtocol=https;AccountName=storageaccount1415956;AccountKey=VP3Anbpvb8xOCraYw0fllNTkc9nR/BfbmKObg+J1c+Q+lXkccsa2VZA/IO5Es7sel5HT0zKnIsOj+ASt+V2bqA==;EndpointSuffix=core.windows.net'"
      ],
      "metadata": {
        "id": "oxYg9kIk8iEv"
      },
      "execution_count": null,
      "outputs": []
    },
    {
      "cell_type": "markdown",
      "source": [
        "ENVIAR OS DADOS PARA AZURE STOREGE BLOB"
      ],
      "metadata": {
        "id": "KEANMFYh9Ve7"
      }
    },
    {
      "cell_type": "code",
      "source": [
        "arquivo_blob = '/content/DADOS_EXAMES.csv'\n",
        "blob = BlobClient.from_connection_string(conn_str=cadeia_conexao, container_name=\"datalake-aulas\", blob_name='raw/DADOS_EXAMES/DADOS_EXAMES_2.csv' )\n",
        "with open(arquivo_blob, \"rb\") as data:\n",
        "  blob.upload_blob(data)  "
      ],
      "metadata": {
        "id": "n-HMLnbb9YEV"
      },
      "execution_count": null,
      "outputs": []
    },
    {
      "cell_type": "markdown",
      "source": [
        "URL DOS DADOS"
      ],
      "metadata": {
        "id": "q7dfvhw__U45"
      }
    },
    {
      "cell_type": "code",
      "source": [
        "url_dados_exames = 'https://storageaccount1415956.blob.core.windows.net/datalake-aulas/raw/DADOS_EXAMES/DADOS_EXAMES.csv'"
      ],
      "metadata": {
        "id": "f84qhyPc_WSc"
      },
      "execution_count": null,
      "outputs": []
    },
    {
      "cell_type": "markdown",
      "source": [
        "FAZENDO A LEITURA DOS DADOS"
      ],
      "metadata": {
        "id": "aSJU7j4N_b-e"
      }
    },
    {
      "cell_type": "code",
      "source": [
        "df_url_dados_exames = pd.read_csv(url_dados_exames, sep=';')"
      ],
      "metadata": {
        "id": "h-9GUWhS_hmc"
      },
      "execution_count": null,
      "outputs": []
    },
    {
      "cell_type": "code",
      "source": [
        "df_url_dados_exames.head()"
      ],
      "metadata": {
        "colab": {
          "base_uri": "https://localhost:8080/",
          "height": 206
        },
        "id": "uyp6ONKl_oKu",
        "outputId": "e6d10979-6280-4b94-b11f-0210047a06f8"
      },
      "execution_count": null,
      "outputs": [
        {
          "output_type": "execute_result",
          "data": {
            "text/plain": [
              "   IdUnidadeAtendimento     NumPedido  IdExame PrecoExame          DataPedido  \\\n",
              "0                     0  PED-05738304     6986       8,35 2022-06-03 07:58:00   \n",
              "1                     0  PED-05746056     8397       6,96 2022-06-03 08:07:00   \n",
              "2                     0  PED-05752896     3376      13,91 2022-06-03 08:13:00   \n",
              "3                     0  PED-05757912     2142      23,65 2022-06-03 08:19:00   \n",
              "4                     0  PED-05763384     3272     300,55 2022-06-03 08:28:00   \n",
              "\n",
              "   QtdExames  QtdAmostrasColhidas DataPrevistaEntregaResultado  \\\n",
              "0          1                    0          2022-06-04 16:00:00   \n",
              "1          1                    0          2022-06-04 16:00:00   \n",
              "2          1                    1          2022-06-04 16:00:00   \n",
              "3          1                    1          2022-06-04 16:00:00   \n",
              "4          2                    2          2022-06-15 16:00:00   \n",
              "\n",
              "  DataLiberacaoResultado  IdCidade  \n",
              "0    2022-06-03 18:32:07         1  \n",
              "1    2022-06-03 16:05:56         1  \n",
              "2    2022-06-03 16:38:30         1  \n",
              "3    2022-06-03 14:36:31         1  \n",
              "4    2022-06-06 15:42:11         1  "
            ],
            "text/html": [
              "\n",
              "  <div id=\"df-d2abf062-1862-4e40-a63b-1151e81f20e9\">\n",
              "    <div class=\"colab-df-container\">\n",
              "      <div>\n",
              "<style scoped>\n",
              "    .dataframe tbody tr th:only-of-type {\n",
              "        vertical-align: middle;\n",
              "    }\n",
              "\n",
              "    .dataframe tbody tr th {\n",
              "        vertical-align: top;\n",
              "    }\n",
              "\n",
              "    .dataframe thead th {\n",
              "        text-align: right;\n",
              "    }\n",
              "</style>\n",
              "<table border=\"1\" class=\"dataframe\">\n",
              "  <thead>\n",
              "    <tr style=\"text-align: right;\">\n",
              "      <th></th>\n",
              "      <th>IdUnidadeAtendimento</th>\n",
              "      <th>NumPedido</th>\n",
              "      <th>IdExame</th>\n",
              "      <th>PrecoExame</th>\n",
              "      <th>DataPedido</th>\n",
              "      <th>QtdExames</th>\n",
              "      <th>QtdAmostrasColhidas</th>\n",
              "      <th>DataPrevistaEntregaResultado</th>\n",
              "      <th>DataLiberacaoResultado</th>\n",
              "      <th>IdCidade</th>\n",
              "    </tr>\n",
              "  </thead>\n",
              "  <tbody>\n",
              "    <tr>\n",
              "      <th>0</th>\n",
              "      <td>0</td>\n",
              "      <td>PED-05738304</td>\n",
              "      <td>6986</td>\n",
              "      <td>8,35</td>\n",
              "      <td>2022-06-03 07:58:00</td>\n",
              "      <td>1</td>\n",
              "      <td>0</td>\n",
              "      <td>2022-06-04 16:00:00</td>\n",
              "      <td>2022-06-03 18:32:07</td>\n",
              "      <td>1</td>\n",
              "    </tr>\n",
              "    <tr>\n",
              "      <th>1</th>\n",
              "      <td>0</td>\n",
              "      <td>PED-05746056</td>\n",
              "      <td>8397</td>\n",
              "      <td>6,96</td>\n",
              "      <td>2022-06-03 08:07:00</td>\n",
              "      <td>1</td>\n",
              "      <td>0</td>\n",
              "      <td>2022-06-04 16:00:00</td>\n",
              "      <td>2022-06-03 16:05:56</td>\n",
              "      <td>1</td>\n",
              "    </tr>\n",
              "    <tr>\n",
              "      <th>2</th>\n",
              "      <td>0</td>\n",
              "      <td>PED-05752896</td>\n",
              "      <td>3376</td>\n",
              "      <td>13,91</td>\n",
              "      <td>2022-06-03 08:13:00</td>\n",
              "      <td>1</td>\n",
              "      <td>1</td>\n",
              "      <td>2022-06-04 16:00:00</td>\n",
              "      <td>2022-06-03 16:38:30</td>\n",
              "      <td>1</td>\n",
              "    </tr>\n",
              "    <tr>\n",
              "      <th>3</th>\n",
              "      <td>0</td>\n",
              "      <td>PED-05757912</td>\n",
              "      <td>2142</td>\n",
              "      <td>23,65</td>\n",
              "      <td>2022-06-03 08:19:00</td>\n",
              "      <td>1</td>\n",
              "      <td>1</td>\n",
              "      <td>2022-06-04 16:00:00</td>\n",
              "      <td>2022-06-03 14:36:31</td>\n",
              "      <td>1</td>\n",
              "    </tr>\n",
              "    <tr>\n",
              "      <th>4</th>\n",
              "      <td>0</td>\n",
              "      <td>PED-05763384</td>\n",
              "      <td>3272</td>\n",
              "      <td>300,55</td>\n",
              "      <td>2022-06-03 08:28:00</td>\n",
              "      <td>2</td>\n",
              "      <td>2</td>\n",
              "      <td>2022-06-15 16:00:00</td>\n",
              "      <td>2022-06-06 15:42:11</td>\n",
              "      <td>1</td>\n",
              "    </tr>\n",
              "  </tbody>\n",
              "</table>\n",
              "</div>\n",
              "      <button class=\"colab-df-convert\" onclick=\"convertToInteractive('df-d2abf062-1862-4e40-a63b-1151e81f20e9')\"\n",
              "              title=\"Convert this dataframe to an interactive table.\"\n",
              "              style=\"display:none;\">\n",
              "        \n",
              "  <svg xmlns=\"http://www.w3.org/2000/svg\" height=\"24px\"viewBox=\"0 0 24 24\"\n",
              "       width=\"24px\">\n",
              "    <path d=\"M0 0h24v24H0V0z\" fill=\"none\"/>\n",
              "    <path d=\"M18.56 5.44l.94 2.06.94-2.06 2.06-.94-2.06-.94-.94-2.06-.94 2.06-2.06.94zm-11 1L8.5 8.5l.94-2.06 2.06-.94-2.06-.94L8.5 2.5l-.94 2.06-2.06.94zm10 10l.94 2.06.94-2.06 2.06-.94-2.06-.94-.94-2.06-.94 2.06-2.06.94z\"/><path d=\"M17.41 7.96l-1.37-1.37c-.4-.4-.92-.59-1.43-.59-.52 0-1.04.2-1.43.59L10.3 9.45l-7.72 7.72c-.78.78-.78 2.05 0 2.83L4 21.41c.39.39.9.59 1.41.59.51 0 1.02-.2 1.41-.59l7.78-7.78 2.81-2.81c.8-.78.8-2.07 0-2.86zM5.41 20L4 18.59l7.72-7.72 1.47 1.35L5.41 20z\"/>\n",
              "  </svg>\n",
              "      </button>\n",
              "      \n",
              "  <style>\n",
              "    .colab-df-container {\n",
              "      display:flex;\n",
              "      flex-wrap:wrap;\n",
              "      gap: 12px;\n",
              "    }\n",
              "\n",
              "    .colab-df-convert {\n",
              "      background-color: #E8F0FE;\n",
              "      border: none;\n",
              "      border-radius: 50%;\n",
              "      cursor: pointer;\n",
              "      display: none;\n",
              "      fill: #1967D2;\n",
              "      height: 32px;\n",
              "      padding: 0 0 0 0;\n",
              "      width: 32px;\n",
              "    }\n",
              "\n",
              "    .colab-df-convert:hover {\n",
              "      background-color: #E2EBFA;\n",
              "      box-shadow: 0px 1px 2px rgba(60, 64, 67, 0.3), 0px 1px 3px 1px rgba(60, 64, 67, 0.15);\n",
              "      fill: #174EA6;\n",
              "    }\n",
              "\n",
              "    [theme=dark] .colab-df-convert {\n",
              "      background-color: #3B4455;\n",
              "      fill: #D2E3FC;\n",
              "    }\n",
              "\n",
              "    [theme=dark] .colab-df-convert:hover {\n",
              "      background-color: #434B5C;\n",
              "      box-shadow: 0px 1px 3px 1px rgba(0, 0, 0, 0.15);\n",
              "      filter: drop-shadow(0px 1px 2px rgba(0, 0, 0, 0.3));\n",
              "      fill: #FFFFFF;\n",
              "    }\n",
              "  </style>\n",
              "\n",
              "      <script>\n",
              "        const buttonEl =\n",
              "          document.querySelector('#df-d2abf062-1862-4e40-a63b-1151e81f20e9 button.colab-df-convert');\n",
              "        buttonEl.style.display =\n",
              "          google.colab.kernel.accessAllowed ? 'block' : 'none';\n",
              "\n",
              "        async function convertToInteractive(key) {\n",
              "          const element = document.querySelector('#df-d2abf062-1862-4e40-a63b-1151e81f20e9');\n",
              "          const dataTable =\n",
              "            await google.colab.kernel.invokeFunction('convertToInteractive',\n",
              "                                                     [key], {});\n",
              "          if (!dataTable) return;\n",
              "\n",
              "          const docLinkHtml = 'Like what you see? Visit the ' +\n",
              "            '<a target=\"_blank\" href=https://colab.research.google.com/notebooks/data_table.ipynb>data table notebook</a>'\n",
              "            + ' to learn more about interactive tables.';\n",
              "          element.innerHTML = '';\n",
              "          dataTable['output_type'] = 'display_data';\n",
              "          await google.colab.output.renderOutput(dataTable, element);\n",
              "          const docLink = document.createElement('div');\n",
              "          docLink.innerHTML = docLinkHtml;\n",
              "          element.appendChild(docLink);\n",
              "        }\n",
              "      </script>\n",
              "    </div>\n",
              "  </div>\n",
              "  "
            ]
          },
          "metadata": {},
          "execution_count": 35
        }
      ]
    },
    {
      "cell_type": "markdown",
      "source": [
        "AJUSTE DOS SCHEMAS"
      ],
      "metadata": {
        "id": "uubprUu9_4kG"
      }
    },
    {
      "cell_type": "code",
      "source": [
        "df_url_dados_exames['IdExame'] = df_url_dados_exames['IdExame'].fillna(0)\n",
        "df_url_dados_exames['QtdExames'] = df_url_dados_exames['QtdExames'].fillna(0)\n",
        "df_url_dados_exames['QtdAmostrasColhidas'] = df_url_dados_exames['QtdAmostrasColhidas'].fillna(0)\n",
        "df_url_dados_exames['IdExame'] = df_url_dados_exames['IdExame'].astype(int)\n",
        "df_url_dados_exames['QtdExames'] = df_url_dados_exames['QtdExames'].astype(int)\n",
        "df_url_dados_exames['QtdAmostrasColhidas'] = df_url_dados_exames['QtdAmostrasColhidas'].astype(int)\n",
        "df_url_dados_exames['Cidade'] = df_url_dados_exames['Cidade'].astype('string')\n",
        "df_url_dados_exames['Estado'] = df_url_dados_exames['Estado'].astype('string')\n",
        "df_url_dados_exames['NumPedido'] = df_url_dados_exames['NumPedido'].astype('string')\n",
        "df_url_dados_exames['Exame'] = df_url_dados_exames['Exame'].astype('string')\n",
        "df_url_dados_exames['SiglaExame'] = df_url_dados_exames['SiglaExame'].astype('string')\n",
        "df_url_dados_exames['Material'] = df_url_dados_exames['Material'].astype('string')\n",
        "df_url_dados_exames['SetorExame'] = df_url_dados_exames['SetorExame'].astype('string')\n",
        "df_url_dados_exames['SetorExame'] = df_url_dados_exames['SetorExame'].astype('string')\n",
        "df_url_dados_exames['DataPedido'] = df_url_dados_exames['DataPedido'].astype('datetime64')\n",
        "df_url_dados_exames['DataPrevistaEntregaResultado'] = df_url_dados_exames['DataPrevistaEntregaResultado'].astype('datetime64')\n",
        "df_url_dados_exames['DataLiberacaoResultado'] = df_url_dados_exames['DataLiberacaoResultado'].astype('datetime64')"
      ],
      "metadata": {
        "id": "PzZmmExb_6cj"
      },
      "execution_count": null,
      "outputs": []
    },
    {
      "cell_type": "markdown",
      "source": [
        "INSERÇÃO DO CAMPO IDCIDADE"
      ],
      "metadata": {
        "id": "NhTT3bPqBsWl"
      }
    },
    {
      "cell_type": "code",
      "source": [
        "df_url_dados_exames['IdCidade'] = np.where(df_url_dados_exames['Cidade']=='BELO HORIZONTE', '1',\n",
        "                                   np.where(df_url_dados_exames['Cidade']=='CONTAGEM', '2', ''))"
      ],
      "metadata": {
        "id": "2Dd6_q6HButZ"
      },
      "execution_count": null,
      "outputs": []
    },
    {
      "cell_type": "markdown",
      "source": [
        "FAZENDO A ORDENAÇÃO DE TODOS OS CAMPOS"
      ],
      "metadata": {
        "id": "o2xoWgoQB1Vu"
      }
    },
    {
      "cell_type": "code",
      "source": [
        "df_url_dados_exames[['IdUnidadeAtendimento', 'IdCidade', 'Cidade', 'Estado', 'NumPedido', 'IdExame', 'Exame', 'SiglaExame', 'Material', 'SetorExame', 'PrecoExame', 'DataPedido', 'QtdExames', 'QtdAmostrasColhidas', 'DataPrevistaEntregaResultado', 'DataLiberacaoResultado']]"
      ],
      "metadata": {
        "id": "kIAgnmzEB5dq"
      },
      "execution_count": null,
      "outputs": []
    },
    {
      "cell_type": "markdown",
      "source": [
        "AJUTES DO TIPO DO CAMPO IDCIDADE"
      ],
      "metadata": {
        "id": "nyoQLyujCCO_"
      }
    },
    {
      "cell_type": "code",
      "source": [
        "df_url_dados_exames['IdCidade'] = df_url_dados_exames['IdCidade'].astype('int64')"
      ],
      "metadata": {
        "id": "2fg1x-7PCKKa"
      },
      "execution_count": null,
      "outputs": []
    },
    {
      "cell_type": "markdown",
      "source": [
        "CRIAÇÃO DO DATRAME DIM_CIDADE"
      ],
      "metadata": {
        "id": "BC6PwriDCPR3"
      }
    },
    {
      "cell_type": "code",
      "source": [
        "df_dim_cidades = df_url_dados_exames.loc[:, ['IdCidade', 'Cidade', 'Estado']]"
      ],
      "metadata": {
        "id": "Wmmx9FRXCS4C"
      },
      "execution_count": null,
      "outputs": []
    },
    {
      "cell_type": "markdown",
      "source": [
        "REMOÇÃO DAS INFORMAÇÃOES DUPLICADAS"
      ],
      "metadata": {
        "id": "CrHAcV2rCYMQ"
      }
    },
    {
      "cell_type": "code",
      "source": [
        "df_dim_cidades = df_dim_cidades.drop_duplicates()"
      ],
      "metadata": {
        "id": "sc0ABkOoCbER"
      },
      "execution_count": null,
      "outputs": []
    },
    {
      "cell_type": "code",
      "source": [
        "df_dim_cidades.head()"
      ],
      "metadata": {
        "colab": {
          "base_uri": "https://localhost:8080/",
          "height": 112
        },
        "id": "XnjZExHyCexe",
        "outputId": "3291b198-2fe4-484e-a330-218e9f936900"
      },
      "execution_count": null,
      "outputs": [
        {
          "output_type": "execute_result",
          "data": {
            "text/plain": [
              "      IdCidade          Cidade Estado\n",
              "0            1  BELO HORIZONTE     MG\n",
              "1029         2        CONTAGEM     MG"
            ],
            "text/html": [
              "\n",
              "  <div id=\"df-5545700e-bfc5-4512-bd58-98b6a9956ef0\">\n",
              "    <div class=\"colab-df-container\">\n",
              "      <div>\n",
              "<style scoped>\n",
              "    .dataframe tbody tr th:only-of-type {\n",
              "        vertical-align: middle;\n",
              "    }\n",
              "\n",
              "    .dataframe tbody tr th {\n",
              "        vertical-align: top;\n",
              "    }\n",
              "\n",
              "    .dataframe thead th {\n",
              "        text-align: right;\n",
              "    }\n",
              "</style>\n",
              "<table border=\"1\" class=\"dataframe\">\n",
              "  <thead>\n",
              "    <tr style=\"text-align: right;\">\n",
              "      <th></th>\n",
              "      <th>IdCidade</th>\n",
              "      <th>Cidade</th>\n",
              "      <th>Estado</th>\n",
              "    </tr>\n",
              "  </thead>\n",
              "  <tbody>\n",
              "    <tr>\n",
              "      <th>0</th>\n",
              "      <td>1</td>\n",
              "      <td>BELO HORIZONTE</td>\n",
              "      <td>MG</td>\n",
              "    </tr>\n",
              "    <tr>\n",
              "      <th>1029</th>\n",
              "      <td>2</td>\n",
              "      <td>CONTAGEM</td>\n",
              "      <td>MG</td>\n",
              "    </tr>\n",
              "  </tbody>\n",
              "</table>\n",
              "</div>\n",
              "      <button class=\"colab-df-convert\" onclick=\"convertToInteractive('df-5545700e-bfc5-4512-bd58-98b6a9956ef0')\"\n",
              "              title=\"Convert this dataframe to an interactive table.\"\n",
              "              style=\"display:none;\">\n",
              "        \n",
              "  <svg xmlns=\"http://www.w3.org/2000/svg\" height=\"24px\"viewBox=\"0 0 24 24\"\n",
              "       width=\"24px\">\n",
              "    <path d=\"M0 0h24v24H0V0z\" fill=\"none\"/>\n",
              "    <path d=\"M18.56 5.44l.94 2.06.94-2.06 2.06-.94-2.06-.94-.94-2.06-.94 2.06-2.06.94zm-11 1L8.5 8.5l.94-2.06 2.06-.94-2.06-.94L8.5 2.5l-.94 2.06-2.06.94zm10 10l.94 2.06.94-2.06 2.06-.94-2.06-.94-.94-2.06-.94 2.06-2.06.94z\"/><path d=\"M17.41 7.96l-1.37-1.37c-.4-.4-.92-.59-1.43-.59-.52 0-1.04.2-1.43.59L10.3 9.45l-7.72 7.72c-.78.78-.78 2.05 0 2.83L4 21.41c.39.39.9.59 1.41.59.51 0 1.02-.2 1.41-.59l7.78-7.78 2.81-2.81c.8-.78.8-2.07 0-2.86zM5.41 20L4 18.59l7.72-7.72 1.47 1.35L5.41 20z\"/>\n",
              "  </svg>\n",
              "      </button>\n",
              "      \n",
              "  <style>\n",
              "    .colab-df-container {\n",
              "      display:flex;\n",
              "      flex-wrap:wrap;\n",
              "      gap: 12px;\n",
              "    }\n",
              "\n",
              "    .colab-df-convert {\n",
              "      background-color: #E8F0FE;\n",
              "      border: none;\n",
              "      border-radius: 50%;\n",
              "      cursor: pointer;\n",
              "      display: none;\n",
              "      fill: #1967D2;\n",
              "      height: 32px;\n",
              "      padding: 0 0 0 0;\n",
              "      width: 32px;\n",
              "    }\n",
              "\n",
              "    .colab-df-convert:hover {\n",
              "      background-color: #E2EBFA;\n",
              "      box-shadow: 0px 1px 2px rgba(60, 64, 67, 0.3), 0px 1px 3px 1px rgba(60, 64, 67, 0.15);\n",
              "      fill: #174EA6;\n",
              "    }\n",
              "\n",
              "    [theme=dark] .colab-df-convert {\n",
              "      background-color: #3B4455;\n",
              "      fill: #D2E3FC;\n",
              "    }\n",
              "\n",
              "    [theme=dark] .colab-df-convert:hover {\n",
              "      background-color: #434B5C;\n",
              "      box-shadow: 0px 1px 3px 1px rgba(0, 0, 0, 0.15);\n",
              "      filter: drop-shadow(0px 1px 2px rgba(0, 0, 0, 0.3));\n",
              "      fill: #FFFFFF;\n",
              "    }\n",
              "  </style>\n",
              "\n",
              "      <script>\n",
              "        const buttonEl =\n",
              "          document.querySelector('#df-5545700e-bfc5-4512-bd58-98b6a9956ef0 button.colab-df-convert');\n",
              "        buttonEl.style.display =\n",
              "          google.colab.kernel.accessAllowed ? 'block' : 'none';\n",
              "\n",
              "        async function convertToInteractive(key) {\n",
              "          const element = document.querySelector('#df-5545700e-bfc5-4512-bd58-98b6a9956ef0');\n",
              "          const dataTable =\n",
              "            await google.colab.kernel.invokeFunction('convertToInteractive',\n",
              "                                                     [key], {});\n",
              "          if (!dataTable) return;\n",
              "\n",
              "          const docLinkHtml = 'Like what you see? Visit the ' +\n",
              "            '<a target=\"_blank\" href=https://colab.research.google.com/notebooks/data_table.ipynb>data table notebook</a>'\n",
              "            + ' to learn more about interactive tables.';\n",
              "          element.innerHTML = '';\n",
              "          dataTable['output_type'] = 'display_data';\n",
              "          await google.colab.output.renderOutput(dataTable, element);\n",
              "          const docLink = document.createElement('div');\n",
              "          docLink.innerHTML = docLinkHtml;\n",
              "          element.appendChild(docLink);\n",
              "        }\n",
              "      </script>\n",
              "    </div>\n",
              "  </div>\n",
              "  "
            ]
          },
          "metadata": {},
          "execution_count": 29
        }
      ]
    },
    {
      "cell_type": "markdown",
      "source": [
        "CRIAÇÃO DO DATAFRAME DIM_EXAME"
      ],
      "metadata": {
        "id": "J-Fl_0ncCsYU"
      }
    },
    {
      "cell_type": "code",
      "source": [
        "df_dim_exane = df_url_dados_exames.loc[:, ['IdExame', 'Exame', 'SiglaExame', 'Material', 'SetorExame']]"
      ],
      "metadata": {
        "id": "cZ3jYIcACzc5"
      },
      "execution_count": null,
      "outputs": []
    },
    {
      "cell_type": "code",
      "source": [
        "df_dim_exane.head()"
      ],
      "metadata": {
        "colab": {
          "base_uri": "https://localhost:8080/",
          "height": 206
        },
        "id": "tH6GbgLQC13i",
        "outputId": "0dc33eef-5987-4469-ee77-bf29ccd95112"
      },
      "execution_count": null,
      "outputs": [
        {
          "output_type": "execute_result",
          "data": {
            "text/plain": [
              "   IdExame                                              Exame SiglaExame  \\\n",
              "0     6986                                 TSH ULTRA SENSÍVEL      TSH-B   \n",
              "1     8397                                            GAMA GT        YGT   \n",
              "2     3376        HIV 1 E 2 PESQUISA DE ANTÍGENO E ANTICORPOS     HIV-EL   \n",
              "3     2142                         COLESTEROL TOTAL E FRAÇÕES       ELFC   \n",
              "4     3272  ESTUDO GENÉTICO DAS MUTAÇÕES C282Y E H63D PARA...     HEMOCR   \n",
              "\n",
              "   Material                SetorExame  \n",
              "0    SANGUE                  HORMONIO  \n",
              "1    SANGUE  BIOQUIMICA ESPECIALIZADA  \n",
              "2    SANGUE                IMUNOLOGIA  \n",
              "3    SANGUE  BIOQUIMICA ESPECIALIZADA  \n",
              "4  DIVERSOS               GEN. HUMANA  "
            ],
            "text/html": [
              "\n",
              "  <div id=\"df-47a41fe5-9429-428f-9ac5-ee9bcf4eab88\">\n",
              "    <div class=\"colab-df-container\">\n",
              "      <div>\n",
              "<style scoped>\n",
              "    .dataframe tbody tr th:only-of-type {\n",
              "        vertical-align: middle;\n",
              "    }\n",
              "\n",
              "    .dataframe tbody tr th {\n",
              "        vertical-align: top;\n",
              "    }\n",
              "\n",
              "    .dataframe thead th {\n",
              "        text-align: right;\n",
              "    }\n",
              "</style>\n",
              "<table border=\"1\" class=\"dataframe\">\n",
              "  <thead>\n",
              "    <tr style=\"text-align: right;\">\n",
              "      <th></th>\n",
              "      <th>IdExame</th>\n",
              "      <th>Exame</th>\n",
              "      <th>SiglaExame</th>\n",
              "      <th>Material</th>\n",
              "      <th>SetorExame</th>\n",
              "    </tr>\n",
              "  </thead>\n",
              "  <tbody>\n",
              "    <tr>\n",
              "      <th>0</th>\n",
              "      <td>6986</td>\n",
              "      <td>TSH ULTRA SENSÍVEL</td>\n",
              "      <td>TSH-B</td>\n",
              "      <td>SANGUE</td>\n",
              "      <td>HORMONIO</td>\n",
              "    </tr>\n",
              "    <tr>\n",
              "      <th>1</th>\n",
              "      <td>8397</td>\n",
              "      <td>GAMA GT</td>\n",
              "      <td>YGT</td>\n",
              "      <td>SANGUE</td>\n",
              "      <td>BIOQUIMICA ESPECIALIZADA</td>\n",
              "    </tr>\n",
              "    <tr>\n",
              "      <th>2</th>\n",
              "      <td>3376</td>\n",
              "      <td>HIV 1 E 2 PESQUISA DE ANTÍGENO E ANTICORPOS</td>\n",
              "      <td>HIV-EL</td>\n",
              "      <td>SANGUE</td>\n",
              "      <td>IMUNOLOGIA</td>\n",
              "    </tr>\n",
              "    <tr>\n",
              "      <th>3</th>\n",
              "      <td>2142</td>\n",
              "      <td>COLESTEROL TOTAL E FRAÇÕES</td>\n",
              "      <td>ELFC</td>\n",
              "      <td>SANGUE</td>\n",
              "      <td>BIOQUIMICA ESPECIALIZADA</td>\n",
              "    </tr>\n",
              "    <tr>\n",
              "      <th>4</th>\n",
              "      <td>3272</td>\n",
              "      <td>ESTUDO GENÉTICO DAS MUTAÇÕES C282Y E H63D PARA...</td>\n",
              "      <td>HEMOCR</td>\n",
              "      <td>DIVERSOS</td>\n",
              "      <td>GEN. HUMANA</td>\n",
              "    </tr>\n",
              "  </tbody>\n",
              "</table>\n",
              "</div>\n",
              "      <button class=\"colab-df-convert\" onclick=\"convertToInteractive('df-47a41fe5-9429-428f-9ac5-ee9bcf4eab88')\"\n",
              "              title=\"Convert this dataframe to an interactive table.\"\n",
              "              style=\"display:none;\">\n",
              "        \n",
              "  <svg xmlns=\"http://www.w3.org/2000/svg\" height=\"24px\"viewBox=\"0 0 24 24\"\n",
              "       width=\"24px\">\n",
              "    <path d=\"M0 0h24v24H0V0z\" fill=\"none\"/>\n",
              "    <path d=\"M18.56 5.44l.94 2.06.94-2.06 2.06-.94-2.06-.94-.94-2.06-.94 2.06-2.06.94zm-11 1L8.5 8.5l.94-2.06 2.06-.94-2.06-.94L8.5 2.5l-.94 2.06-2.06.94zm10 10l.94 2.06.94-2.06 2.06-.94-2.06-.94-.94-2.06-.94 2.06-2.06.94z\"/><path d=\"M17.41 7.96l-1.37-1.37c-.4-.4-.92-.59-1.43-.59-.52 0-1.04.2-1.43.59L10.3 9.45l-7.72 7.72c-.78.78-.78 2.05 0 2.83L4 21.41c.39.39.9.59 1.41.59.51 0 1.02-.2 1.41-.59l7.78-7.78 2.81-2.81c.8-.78.8-2.07 0-2.86zM5.41 20L4 18.59l7.72-7.72 1.47 1.35L5.41 20z\"/>\n",
              "  </svg>\n",
              "      </button>\n",
              "      \n",
              "  <style>\n",
              "    .colab-df-container {\n",
              "      display:flex;\n",
              "      flex-wrap:wrap;\n",
              "      gap: 12px;\n",
              "    }\n",
              "\n",
              "    .colab-df-convert {\n",
              "      background-color: #E8F0FE;\n",
              "      border: none;\n",
              "      border-radius: 50%;\n",
              "      cursor: pointer;\n",
              "      display: none;\n",
              "      fill: #1967D2;\n",
              "      height: 32px;\n",
              "      padding: 0 0 0 0;\n",
              "      width: 32px;\n",
              "    }\n",
              "\n",
              "    .colab-df-convert:hover {\n",
              "      background-color: #E2EBFA;\n",
              "      box-shadow: 0px 1px 2px rgba(60, 64, 67, 0.3), 0px 1px 3px 1px rgba(60, 64, 67, 0.15);\n",
              "      fill: #174EA6;\n",
              "    }\n",
              "\n",
              "    [theme=dark] .colab-df-convert {\n",
              "      background-color: #3B4455;\n",
              "      fill: #D2E3FC;\n",
              "    }\n",
              "\n",
              "    [theme=dark] .colab-df-convert:hover {\n",
              "      background-color: #434B5C;\n",
              "      box-shadow: 0px 1px 3px 1px rgba(0, 0, 0, 0.15);\n",
              "      filter: drop-shadow(0px 1px 2px rgba(0, 0, 0, 0.3));\n",
              "      fill: #FFFFFF;\n",
              "    }\n",
              "  </style>\n",
              "\n",
              "      <script>\n",
              "        const buttonEl =\n",
              "          document.querySelector('#df-47a41fe5-9429-428f-9ac5-ee9bcf4eab88 button.colab-df-convert');\n",
              "        buttonEl.style.display =\n",
              "          google.colab.kernel.accessAllowed ? 'block' : 'none';\n",
              "\n",
              "        async function convertToInteractive(key) {\n",
              "          const element = document.querySelector('#df-47a41fe5-9429-428f-9ac5-ee9bcf4eab88');\n",
              "          const dataTable =\n",
              "            await google.colab.kernel.invokeFunction('convertToInteractive',\n",
              "                                                     [key], {});\n",
              "          if (!dataTable) return;\n",
              "\n",
              "          const docLinkHtml = 'Like what you see? Visit the ' +\n",
              "            '<a target=\"_blank\" href=https://colab.research.google.com/notebooks/data_table.ipynb>data table notebook</a>'\n",
              "            + ' to learn more about interactive tables.';\n",
              "          element.innerHTML = '';\n",
              "          dataTable['output_type'] = 'display_data';\n",
              "          await google.colab.output.renderOutput(dataTable, element);\n",
              "          const docLink = document.createElement('div');\n",
              "          docLink.innerHTML = docLinkHtml;\n",
              "          element.appendChild(docLink);\n",
              "        }\n",
              "      </script>\n",
              "    </div>\n",
              "  </div>\n",
              "  "
            ]
          },
          "metadata": {},
          "execution_count": 31
        }
      ]
    },
    {
      "cell_type": "markdown",
      "source": [
        "REMOÇÃO DOS CAMPO NO df_url_dados_exames"
      ],
      "metadata": {
        "id": "bls3ugZwDCoG"
      }
    },
    {
      "cell_type": "code",
      "source": [
        "df_url_dados_exames = df_url_dados_exames.drop('Cidade', axis=1)\n",
        "df_url_dados_exames = df_url_dados_exames.drop('Estado', axis=1)\n",
        "df_url_dados_exames = df_url_dados_exames.drop('Exame', axis=1)\n",
        "df_url_dados_exames = df_url_dados_exames.drop('SiglaExame', axis=1)\n",
        "df_url_dados_exames = df_url_dados_exames.drop('Material', axis=1)\n",
        "df_url_dados_exames = df_url_dados_exames.drop('SetorExame', axis=1)"
      ],
      "metadata": {
        "id": "uoURdTSKDH7A"
      },
      "execution_count": null,
      "outputs": []
    },
    {
      "cell_type": "code",
      "source": [
        "df_url_dados_exames.head()"
      ],
      "metadata": {
        "colab": {
          "base_uri": "https://localhost:8080/",
          "height": 206
        },
        "id": "Khf7ntZHERNP",
        "outputId": "57cafa00-d041-42dc-c92a-7045f82b93d3"
      },
      "execution_count": null,
      "outputs": [
        {
          "output_type": "execute_result",
          "data": {
            "text/plain": [
              "   IdUnidadeAtendimento     NumPedido  IdExame PrecoExame          DataPedido  \\\n",
              "0                     0  PED-05738304     6986       8,35 2022-06-03 07:58:00   \n",
              "1                     0  PED-05746056     8397       6,96 2022-06-03 08:07:00   \n",
              "2                     0  PED-05752896     3376      13,91 2022-06-03 08:13:00   \n",
              "3                     0  PED-05757912     2142      23,65 2022-06-03 08:19:00   \n",
              "4                     0  PED-05763384     3272     300,55 2022-06-03 08:28:00   \n",
              "\n",
              "   QtdExames  QtdAmostrasColhidas DataPrevistaEntregaResultado  \\\n",
              "0          1                    0          2022-06-04 16:00:00   \n",
              "1          1                    0          2022-06-04 16:00:00   \n",
              "2          1                    1          2022-06-04 16:00:00   \n",
              "3          1                    1          2022-06-04 16:00:00   \n",
              "4          2                    2          2022-06-15 16:00:00   \n",
              "\n",
              "  DataLiberacaoResultado  IdCidade  \n",
              "0    2022-06-03 18:32:07         1  \n",
              "1    2022-06-03 16:05:56         1  \n",
              "2    2022-06-03 16:38:30         1  \n",
              "3    2022-06-03 14:36:31         1  \n",
              "4    2022-06-06 15:42:11         1  "
            ],
            "text/html": [
              "\n",
              "  <div id=\"df-ffc106f7-5b44-42b8-93c8-a04f20371162\">\n",
              "    <div class=\"colab-df-container\">\n",
              "      <div>\n",
              "<style scoped>\n",
              "    .dataframe tbody tr th:only-of-type {\n",
              "        vertical-align: middle;\n",
              "    }\n",
              "\n",
              "    .dataframe tbody tr th {\n",
              "        vertical-align: top;\n",
              "    }\n",
              "\n",
              "    .dataframe thead th {\n",
              "        text-align: right;\n",
              "    }\n",
              "</style>\n",
              "<table border=\"1\" class=\"dataframe\">\n",
              "  <thead>\n",
              "    <tr style=\"text-align: right;\">\n",
              "      <th></th>\n",
              "      <th>IdUnidadeAtendimento</th>\n",
              "      <th>NumPedido</th>\n",
              "      <th>IdExame</th>\n",
              "      <th>PrecoExame</th>\n",
              "      <th>DataPedido</th>\n",
              "      <th>QtdExames</th>\n",
              "      <th>QtdAmostrasColhidas</th>\n",
              "      <th>DataPrevistaEntregaResultado</th>\n",
              "      <th>DataLiberacaoResultado</th>\n",
              "      <th>IdCidade</th>\n",
              "    </tr>\n",
              "  </thead>\n",
              "  <tbody>\n",
              "    <tr>\n",
              "      <th>0</th>\n",
              "      <td>0</td>\n",
              "      <td>PED-05738304</td>\n",
              "      <td>6986</td>\n",
              "      <td>8,35</td>\n",
              "      <td>2022-06-03 07:58:00</td>\n",
              "      <td>1</td>\n",
              "      <td>0</td>\n",
              "      <td>2022-06-04 16:00:00</td>\n",
              "      <td>2022-06-03 18:32:07</td>\n",
              "      <td>1</td>\n",
              "    </tr>\n",
              "    <tr>\n",
              "      <th>1</th>\n",
              "      <td>0</td>\n",
              "      <td>PED-05746056</td>\n",
              "      <td>8397</td>\n",
              "      <td>6,96</td>\n",
              "      <td>2022-06-03 08:07:00</td>\n",
              "      <td>1</td>\n",
              "      <td>0</td>\n",
              "      <td>2022-06-04 16:00:00</td>\n",
              "      <td>2022-06-03 16:05:56</td>\n",
              "      <td>1</td>\n",
              "    </tr>\n",
              "    <tr>\n",
              "      <th>2</th>\n",
              "      <td>0</td>\n",
              "      <td>PED-05752896</td>\n",
              "      <td>3376</td>\n",
              "      <td>13,91</td>\n",
              "      <td>2022-06-03 08:13:00</td>\n",
              "      <td>1</td>\n",
              "      <td>1</td>\n",
              "      <td>2022-06-04 16:00:00</td>\n",
              "      <td>2022-06-03 16:38:30</td>\n",
              "      <td>1</td>\n",
              "    </tr>\n",
              "    <tr>\n",
              "      <th>3</th>\n",
              "      <td>0</td>\n",
              "      <td>PED-05757912</td>\n",
              "      <td>2142</td>\n",
              "      <td>23,65</td>\n",
              "      <td>2022-06-03 08:19:00</td>\n",
              "      <td>1</td>\n",
              "      <td>1</td>\n",
              "      <td>2022-06-04 16:00:00</td>\n",
              "      <td>2022-06-03 14:36:31</td>\n",
              "      <td>1</td>\n",
              "    </tr>\n",
              "    <tr>\n",
              "      <th>4</th>\n",
              "      <td>0</td>\n",
              "      <td>PED-05763384</td>\n",
              "      <td>3272</td>\n",
              "      <td>300,55</td>\n",
              "      <td>2022-06-03 08:28:00</td>\n",
              "      <td>2</td>\n",
              "      <td>2</td>\n",
              "      <td>2022-06-15 16:00:00</td>\n",
              "      <td>2022-06-06 15:42:11</td>\n",
              "      <td>1</td>\n",
              "    </tr>\n",
              "  </tbody>\n",
              "</table>\n",
              "</div>\n",
              "      <button class=\"colab-df-convert\" onclick=\"convertToInteractive('df-ffc106f7-5b44-42b8-93c8-a04f20371162')\"\n",
              "              title=\"Convert this dataframe to an interactive table.\"\n",
              "              style=\"display:none;\">\n",
              "        \n",
              "  <svg xmlns=\"http://www.w3.org/2000/svg\" height=\"24px\"viewBox=\"0 0 24 24\"\n",
              "       width=\"24px\">\n",
              "    <path d=\"M0 0h24v24H0V0z\" fill=\"none\"/>\n",
              "    <path d=\"M18.56 5.44l.94 2.06.94-2.06 2.06-.94-2.06-.94-.94-2.06-.94 2.06-2.06.94zm-11 1L8.5 8.5l.94-2.06 2.06-.94-2.06-.94L8.5 2.5l-.94 2.06-2.06.94zm10 10l.94 2.06.94-2.06 2.06-.94-2.06-.94-.94-2.06-.94 2.06-2.06.94z\"/><path d=\"M17.41 7.96l-1.37-1.37c-.4-.4-.92-.59-1.43-.59-.52 0-1.04.2-1.43.59L10.3 9.45l-7.72 7.72c-.78.78-.78 2.05 0 2.83L4 21.41c.39.39.9.59 1.41.59.51 0 1.02-.2 1.41-.59l7.78-7.78 2.81-2.81c.8-.78.8-2.07 0-2.86zM5.41 20L4 18.59l7.72-7.72 1.47 1.35L5.41 20z\"/>\n",
              "  </svg>\n",
              "      </button>\n",
              "      \n",
              "  <style>\n",
              "    .colab-df-container {\n",
              "      display:flex;\n",
              "      flex-wrap:wrap;\n",
              "      gap: 12px;\n",
              "    }\n",
              "\n",
              "    .colab-df-convert {\n",
              "      background-color: #E8F0FE;\n",
              "      border: none;\n",
              "      border-radius: 50%;\n",
              "      cursor: pointer;\n",
              "      display: none;\n",
              "      fill: #1967D2;\n",
              "      height: 32px;\n",
              "      padding: 0 0 0 0;\n",
              "      width: 32px;\n",
              "    }\n",
              "\n",
              "    .colab-df-convert:hover {\n",
              "      background-color: #E2EBFA;\n",
              "      box-shadow: 0px 1px 2px rgba(60, 64, 67, 0.3), 0px 1px 3px 1px rgba(60, 64, 67, 0.15);\n",
              "      fill: #174EA6;\n",
              "    }\n",
              "\n",
              "    [theme=dark] .colab-df-convert {\n",
              "      background-color: #3B4455;\n",
              "      fill: #D2E3FC;\n",
              "    }\n",
              "\n",
              "    [theme=dark] .colab-df-convert:hover {\n",
              "      background-color: #434B5C;\n",
              "      box-shadow: 0px 1px 3px 1px rgba(0, 0, 0, 0.15);\n",
              "      filter: drop-shadow(0px 1px 2px rgba(0, 0, 0, 0.3));\n",
              "      fill: #FFFFFF;\n",
              "    }\n",
              "  </style>\n",
              "\n",
              "      <script>\n",
              "        const buttonEl =\n",
              "          document.querySelector('#df-ffc106f7-5b44-42b8-93c8-a04f20371162 button.colab-df-convert');\n",
              "        buttonEl.style.display =\n",
              "          google.colab.kernel.accessAllowed ? 'block' : 'none';\n",
              "\n",
              "        async function convertToInteractive(key) {\n",
              "          const element = document.querySelector('#df-ffc106f7-5b44-42b8-93c8-a04f20371162');\n",
              "          const dataTable =\n",
              "            await google.colab.kernel.invokeFunction('convertToInteractive',\n",
              "                                                     [key], {});\n",
              "          if (!dataTable) return;\n",
              "\n",
              "          const docLinkHtml = 'Like what you see? Visit the ' +\n",
              "            '<a target=\"_blank\" href=https://colab.research.google.com/notebooks/data_table.ipynb>data table notebook</a>'\n",
              "            + ' to learn more about interactive tables.';\n",
              "          element.innerHTML = '';\n",
              "          dataTable['output_type'] = 'display_data';\n",
              "          await google.colab.output.renderOutput(dataTable, element);\n",
              "          const docLink = document.createElement('div');\n",
              "          docLink.innerHTML = docLinkHtml;\n",
              "          element.appendChild(docLink);\n",
              "        }\n",
              "      </script>\n",
              "    </div>\n",
              "  </div>\n",
              "  "
            ]
          },
          "metadata": {},
          "execution_count": 34
        }
      ]
    },
    {
      "cell_type": "code",
      "source": [],
      "metadata": {
        "id": "xG0KNyk-ETjQ"
      },
      "execution_count": null,
      "outputs": []
    }
  ]
}